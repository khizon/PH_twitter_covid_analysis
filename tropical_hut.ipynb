{
 "cells": [
  {
   "cell_type": "markdown",
   "id": "b84f21cb",
   "metadata": {},
   "source": [
    "# Data scraping and analysis of the recent trending status of the fast food chain Tropical Hut\n",
    "\n",
    "snscraper has a very easy to use python wrapper than can be used to scrape tweets from a public Twitter account."
   ]
  },
  {
   "cell_type": "code",
   "execution_count": 1,
   "id": "76f1e456",
   "metadata": {},
   "outputs": [],
   "source": [
    "from tqdm import tqdm\n",
    "import snscrape.modules.twitter as sntwitter\n",
    "import pandas as pd\n",
    "from datetime import date, timedelta\n",
    "from scrape_utils import scrape_twitter\n",
    "\n",
    "import seaborn as sns\n",
    "import matplotlib.pyplot as plt"
   ]
  },
  {
   "cell_type": "markdown",
   "id": "69c1ec91",
   "metadata": {},
   "source": [
    "## Scraping twitter data"
   ]
  },
  {
   "cell_type": "code",
   "execution_count": 2,
   "id": "032c1542",
   "metadata": {},
   "outputs": [
    {
     "name": "stdout",
     "output_type": "stream",
     "text": [
      "tropical hut since:2022-01-01 until:2022-06-21 \n"
     ]
    },
    {
     "name": "stderr",
     "output_type": "stream",
     "text": [
      "8250it [11:58, 11.48it/s]\n"
     ]
    }
   ],
   "source": [
    "scrape_twitter(query=\"tropical hut\", since=\"2022-01-01\")"
   ]
  },
  {
   "cell_type": "markdown",
   "id": "1ce584ce",
   "metadata": {},
   "source": [
    "## Exploration of the data and cleaning"
   ]
  },
  {
   "cell_type": "code",
   "execution_count": 59,
   "id": "bbed8ea9",
   "metadata": {},
   "outputs": [
    {
     "data": {
      "text/html": [
       "<div>\n",
       "<style scoped>\n",
       "    .dataframe tbody tr th:only-of-type {\n",
       "        vertical-align: middle;\n",
       "    }\n",
       "\n",
       "    .dataframe tbody tr th {\n",
       "        vertical-align: top;\n",
       "    }\n",
       "\n",
       "    .dataframe thead th {\n",
       "        text-align: right;\n",
       "    }\n",
       "</style>\n",
       "<table border=\"1\" class=\"dataframe\">\n",
       "  <thead>\n",
       "    <tr style=\"text-align: right;\">\n",
       "      <th></th>\n",
       "      <th>tweet_id</th>\n",
       "      <th>date</th>\n",
       "      <th>tweet</th>\n",
       "      <th>retweets</th>\n",
       "      <th>likes</th>\n",
       "      <th>quote_tweets</th>\n",
       "      <th>replies</th>\n",
       "      <th>retweeted_tweet</th>\n",
       "      <th>quoted_tweet</th>\n",
       "      <th>user_name</th>\n",
       "      <th>user_display_name</th>\n",
       "      <th>user_description</th>\n",
       "      <th>user_verified</th>\n",
       "      <th>user_location</th>\n",
       "      <th>user_created</th>\n",
       "      <th>user_followers</th>\n",
       "      <th>user_following</th>\n",
       "      <th>user_tweets_count</th>\n",
       "    </tr>\n",
       "  </thead>\n",
       "  <tbody>\n",
       "    <tr>\n",
       "      <th>7096</th>\n",
       "      <td>1536133403786940416</td>\n",
       "      <td>2022-06-12 23:48:38+00:00</td>\n",
       "      <td>@3stanJake Last time i checked buhay pa tropic...</td>\n",
       "      <td>0</td>\n",
       "      <td>1</td>\n",
       "      <td>0</td>\n",
       "      <td>0</td>\n",
       "      <td>NaN</td>\n",
       "      <td>NaN</td>\n",
       "      <td>tamboy_</td>\n",
       "      <td>twitch.tv/tamboyadvance</td>\n",
       "      <td>Small circle. Private Life. Peace of mind. Cat...</td>\n",
       "      <td>False</td>\n",
       "      <td>Evergaol</td>\n",
       "      <td>2021-11-15 04:47:06+00:00</td>\n",
       "      <td>165</td>\n",
       "      <td>317</td>\n",
       "      <td>3143</td>\n",
       "    </tr>\n",
       "    <tr>\n",
       "      <th>3886</th>\n",
       "      <td>1537196336302673921</td>\n",
       "      <td>2022-06-15 22:12:20+00:00</td>\n",
       "      <td>@iamaivanreigh @aye_ramalla #TropicalHut  mukb...</td>\n",
       "      <td>0</td>\n",
       "      <td>0</td>\n",
       "      <td>0</td>\n",
       "      <td>0</td>\n",
       "      <td>NaN</td>\n",
       "      <td>NaN</td>\n",
       "      <td>FajMarlon</td>\n",
       "      <td>Marlon Faj</td>\n",
       "      <td>Palaban para sa Katotohanan</td>\n",
       "      <td>False</td>\n",
       "      <td>riyadh saudi arabia</td>\n",
       "      <td>2017-05-03 17:43:17+00:00</td>\n",
       "      <td>50</td>\n",
       "      <td>205</td>\n",
       "      <td>2427</td>\n",
       "    </tr>\n",
       "    <tr>\n",
       "      <th>6405</th>\n",
       "      <td>1536297083174801408</td>\n",
       "      <td>2022-06-13 10:39:02+00:00</td>\n",
       "      <td>ME REALISING THREE OF TROPICAL HUT BRANCHES I ...</td>\n",
       "      <td>0</td>\n",
       "      <td>5</td>\n",
       "      <td>0</td>\n",
       "      <td>1</td>\n",
       "      <td>NaN</td>\n",
       "      <td>https://twitter.com/MrlnSngco/status/153595597...</td>\n",
       "      <td>stormberry</td>\n",
       "      <td>anne 🏴‍☠️🖤</td>\n",
       "      <td>«♄» death reborn revolution. #neveragain      ...</td>\n",
       "      <td>False</td>\n",
       "      <td>NaN</td>\n",
       "      <td>2007-05-09 07:45:08+00:00</td>\n",
       "      <td>1092</td>\n",
       "      <td>391</td>\n",
       "      <td>233192</td>\n",
       "    </tr>\n",
       "    <tr>\n",
       "      <th>4216</th>\n",
       "      <td>1537089715048189953</td>\n",
       "      <td>2022-06-15 15:08:40+00:00</td>\n",
       "      <td>Tropical hut Q-Plaza din andami tao https://t....</td>\n",
       "      <td>0</td>\n",
       "      <td>0</td>\n",
       "      <td>0</td>\n",
       "      <td>0</td>\n",
       "      <td>NaN</td>\n",
       "      <td>https://twitter.com/whuaffee/status/1536960152...</td>\n",
       "      <td>RealMarinela</td>\n",
       "      <td>Marinela | Proud KAKAMPINK!</td>\n",
       "      <td>Still a Kakampink, Always a KAKAMPINK! VIP - J...</td>\n",
       "      <td>False</td>\n",
       "      <td>Taytay, Rizal</td>\n",
       "      <td>2010-08-28 15:10:24+00:00</td>\n",
       "      <td>752</td>\n",
       "      <td>1203</td>\n",
       "      <td>21977</td>\n",
       "    </tr>\n",
       "    <tr>\n",
       "      <th>947</th>\n",
       "      <td>1538047922293551104</td>\n",
       "      <td>2022-06-18 06:36:14+00:00</td>\n",
       "      <td>I love Tropical Hut! Ito yung palagi kong orde...</td>\n",
       "      <td>4</td>\n",
       "      <td>52</td>\n",
       "      <td>1</td>\n",
       "      <td>1</td>\n",
       "      <td>NaN</td>\n",
       "      <td>NaN</td>\n",
       "      <td>ernstunspoken</td>\n",
       "      <td>Ernest Joric 🧑🏻‍💻</td>\n",
       "      <td>Filipino 🇵🇭 | Marikeño/Novo Ecijano | Frustrat...</td>\n",
       "      <td>False</td>\n",
       "      <td>Republic of the Philippines</td>\n",
       "      <td>2009-05-14 11:43:37+00:00</td>\n",
       "      <td>133</td>\n",
       "      <td>32</td>\n",
       "      <td>3468</td>\n",
       "    </tr>\n",
       "  </tbody>\n",
       "</table>\n",
       "</div>"
      ],
      "text/plain": [
       "                 tweet_id                       date  \\\n",
       "7096  1536133403786940416  2022-06-12 23:48:38+00:00   \n",
       "3886  1537196336302673921  2022-06-15 22:12:20+00:00   \n",
       "6405  1536297083174801408  2022-06-13 10:39:02+00:00   \n",
       "4216  1537089715048189953  2022-06-15 15:08:40+00:00   \n",
       "947   1538047922293551104  2022-06-18 06:36:14+00:00   \n",
       "\n",
       "                                                  tweet  retweets  likes  \\\n",
       "7096  @3stanJake Last time i checked buhay pa tropic...         0      1   \n",
       "3886  @iamaivanreigh @aye_ramalla #TropicalHut  mukb...         0      0   \n",
       "6405  ME REALISING THREE OF TROPICAL HUT BRANCHES I ...         0      5   \n",
       "4216  Tropical hut Q-Plaza din andami tao https://t....         0      0   \n",
       "947   I love Tropical Hut! Ito yung palagi kong orde...         4     52   \n",
       "\n",
       "      quote_tweets  replies  retweeted_tweet  \\\n",
       "7096             0        0              NaN   \n",
       "3886             0        0              NaN   \n",
       "6405             0        1              NaN   \n",
       "4216             0        0              NaN   \n",
       "947              1        1              NaN   \n",
       "\n",
       "                                           quoted_tweet      user_name  \\\n",
       "7096                                                NaN        tamboy_   \n",
       "3886                                                NaN      FajMarlon   \n",
       "6405  https://twitter.com/MrlnSngco/status/153595597...     stormberry   \n",
       "4216  https://twitter.com/whuaffee/status/1536960152...   RealMarinela   \n",
       "947                                                 NaN  ernstunspoken   \n",
       "\n",
       "                user_display_name  \\\n",
       "7096      twitch.tv/tamboyadvance   \n",
       "3886                   Marlon Faj   \n",
       "6405                   anne 🏴‍☠️🖤   \n",
       "4216  Marinela | Proud KAKAMPINK!   \n",
       "947             Ernest Joric 🧑🏻‍💻   \n",
       "\n",
       "                                       user_description  user_verified  \\\n",
       "7096  Small circle. Private Life. Peace of mind. Cat...          False   \n",
       "3886                        Palaban para sa Katotohanan          False   \n",
       "6405  «♄» death reborn revolution. #neveragain      ...          False   \n",
       "4216  Still a Kakampink, Always a KAKAMPINK! VIP - J...          False   \n",
       "947   Filipino 🇵🇭 | Marikeño/Novo Ecijano | Frustrat...          False   \n",
       "\n",
       "                    user_location               user_created  user_followers  \\\n",
       "7096                     Evergaol  2021-11-15 04:47:06+00:00             165   \n",
       "3886          riyadh saudi arabia  2017-05-03 17:43:17+00:00              50   \n",
       "6405                          NaN  2007-05-09 07:45:08+00:00            1092   \n",
       "4216                Taytay, Rizal  2010-08-28 15:10:24+00:00             752   \n",
       "947   Republic of the Philippines  2009-05-14 11:43:37+00:00             133   \n",
       "\n",
       "      user_following  user_tweets_count  \n",
       "7096             317               3143  \n",
       "3886             205               2427  \n",
       "6405             391             233192  \n",
       "4216            1203              21977  \n",
       "947               32               3468  "
      ]
     },
     "execution_count": 59,
     "metadata": {},
     "output_type": "execute_result"
    }
   ],
   "source": [
    "df = pd.read_csv(\"tweets_tropical hut.csv\")\n",
    "df.sample(5)"
   ]
  },
  {
   "cell_type": "code",
   "execution_count": 60,
   "id": "87181827",
   "metadata": {},
   "outputs": [
    {
     "data": {
      "text/plain": [
       "tweet_id                                   int64\n",
       "date                 datetime64[ns, Asia/Manila]\n",
       "tweet                                     object\n",
       "retweets                                   int64\n",
       "likes                                      int64\n",
       "quote_tweets                               int64\n",
       "replies                                    int64\n",
       "retweeted_tweet                          float64\n",
       "quoted_tweet                              object\n",
       "user_name                                 object\n",
       "user_display_name                         object\n",
       "user_description                          object\n",
       "user_verified                               bool\n",
       "user_location                             object\n",
       "user_created         datetime64[ns, Asia/Manila]\n",
       "user_followers                             int64\n",
       "user_following                             int64\n",
       "user_tweets_count                          int64\n",
       "dtype: object"
      ]
     },
     "execution_count": 60,
     "metadata": {},
     "output_type": "execute_result"
    }
   ],
   "source": [
    "# Convert the date column into datetime64 format and adjust for Manila's timezone\n",
    "df['date']=pd.to_datetime(df['date'], yearfirst=True).dt.tz_convert('Asia/Manila')\n",
    "df['user_created']=pd.to_datetime(df['user_created'], yearfirst=True).dt.tz_convert('Asia/Manila')\n",
    "df.dtypes"
   ]
  },
  {
   "cell_type": "code",
   "execution_count": 61,
   "id": "6c584b24",
   "metadata": {},
   "outputs": [],
   "source": [
    "# Set tweet to lower case for cleaning\n",
    "df['tweet_lc'] = df['tweet'].str.lower()"
   ]
  },
  {
   "cell_type": "code",
   "execution_count": 62,
   "id": "50638336",
   "metadata": {},
   "outputs": [],
   "source": [
    "# Look for tweets from their official account and different variations of tropical hut. tropical.hut <- wildcard in regex\n",
    "searchfor = ['tropical hut', 'tropicalhut', 'tropical.hut']\n",
    "df_clean = df[(df.tweet_lc.str.contains('|'.join(searchfor))) | (df.user_name == 'THHamburger')]\n",
    "df_x = df[~df.tweet_id.isin(df_clean.tweet_id.to_list())]"
   ]
  },
  {
   "cell_type": "code",
   "execution_count": 63,
   "id": "932ae661",
   "metadata": {},
   "outputs": [
    {
     "data": {
      "text/html": [
       "<div>\n",
       "<style scoped>\n",
       "    .dataframe tbody tr th:only-of-type {\n",
       "        vertical-align: middle;\n",
       "    }\n",
       "\n",
       "    .dataframe tbody tr th {\n",
       "        vertical-align: top;\n",
       "    }\n",
       "\n",
       "    .dataframe thead th {\n",
       "        text-align: right;\n",
       "    }\n",
       "</style>\n",
       "<table border=\"1\" class=\"dataframe\">\n",
       "  <thead>\n",
       "    <tr style=\"text-align: right;\">\n",
       "      <th></th>\n",
       "      <th>tweet_id</th>\n",
       "      <th>retweets</th>\n",
       "      <th>likes</th>\n",
       "      <th>quote_tweets</th>\n",
       "      <th>replies</th>\n",
       "      <th>retweeted_tweet</th>\n",
       "      <th>user_followers</th>\n",
       "      <th>user_following</th>\n",
       "      <th>user_tweets_count</th>\n",
       "    </tr>\n",
       "  </thead>\n",
       "  <tbody>\n",
       "    <tr>\n",
       "      <th>count</th>\n",
       "      <td>8.004000e+03</td>\n",
       "      <td>8004.000000</td>\n",
       "      <td>8004.000000</td>\n",
       "      <td>8004.000000</td>\n",
       "      <td>8004.000000</td>\n",
       "      <td>0.0</td>\n",
       "      <td>8.004000e+03</td>\n",
       "      <td>8004.000000</td>\n",
       "      <td>8004.000000</td>\n",
       "    </tr>\n",
       "    <tr>\n",
       "      <th>mean</th>\n",
       "      <td>1.535434e+18</td>\n",
       "      <td>3.184908</td>\n",
       "      <td>37.122939</td>\n",
       "      <td>1.683783</td>\n",
       "      <td>0.831709</td>\n",
       "      <td>NaN</td>\n",
       "      <td>2.724195e+03</td>\n",
       "      <td>690.960145</td>\n",
       "      <td>28257.169665</td>\n",
       "    </tr>\n",
       "    <tr>\n",
       "      <th>std</th>\n",
       "      <td>8.062387e+15</td>\n",
       "      <td>64.775785</td>\n",
       "      <td>717.146882</td>\n",
       "      <td>50.855764</td>\n",
       "      <td>8.311732</td>\n",
       "      <td>NaN</td>\n",
       "      <td>9.631576e+04</td>\n",
       "      <td>1099.443757</td>\n",
       "      <td>47623.815803</td>\n",
       "    </tr>\n",
       "    <tr>\n",
       "      <th>min</th>\n",
       "      <td>1.477580e+18</td>\n",
       "      <td>0.000000</td>\n",
       "      <td>0.000000</td>\n",
       "      <td>0.000000</td>\n",
       "      <td>0.000000</td>\n",
       "      <td>NaN</td>\n",
       "      <td>0.000000e+00</td>\n",
       "      <td>0.000000</td>\n",
       "      <td>1.000000</td>\n",
       "    </tr>\n",
       "    <tr>\n",
       "      <th>25%</th>\n",
       "      <td>1.536407e+18</td>\n",
       "      <td>0.000000</td>\n",
       "      <td>0.000000</td>\n",
       "      <td>0.000000</td>\n",
       "      <td>0.000000</td>\n",
       "      <td>NaN</td>\n",
       "      <td>1.180000e+02</td>\n",
       "      <td>194.000000</td>\n",
       "      <td>4040.750000</td>\n",
       "    </tr>\n",
       "    <tr>\n",
       "      <th>50%</th>\n",
       "      <td>1.537137e+18</td>\n",
       "      <td>0.000000</td>\n",
       "      <td>1.000000</td>\n",
       "      <td>0.000000</td>\n",
       "      <td>0.000000</td>\n",
       "      <td>NaN</td>\n",
       "      <td>3.205000e+02</td>\n",
       "      <td>400.000000</td>\n",
       "      <td>13593.500000</td>\n",
       "    </tr>\n",
       "    <tr>\n",
       "      <th>75%</th>\n",
       "      <td>1.537712e+18</td>\n",
       "      <td>0.000000</td>\n",
       "      <td>2.000000</td>\n",
       "      <td>0.000000</td>\n",
       "      <td>1.000000</td>\n",
       "      <td>NaN</td>\n",
       "      <td>8.120000e+02</td>\n",
       "      <td>781.000000</td>\n",
       "      <td>33867.250000</td>\n",
       "    </tr>\n",
       "    <tr>\n",
       "      <th>max</th>\n",
       "      <td>1.538691e+18</td>\n",
       "      <td>3574.000000</td>\n",
       "      <td>36095.000000</td>\n",
       "      <td>3613.000000</td>\n",
       "      <td>532.000000</td>\n",
       "      <td>NaN</td>\n",
       "      <td>8.512173e+06</td>\n",
       "      <td>33678.000000</td>\n",
       "      <td>984166.000000</td>\n",
       "    </tr>\n",
       "  </tbody>\n",
       "</table>\n",
       "</div>"
      ],
      "text/plain": [
       "           tweet_id     retweets         likes  quote_tweets      replies  \\\n",
       "count  8.004000e+03  8004.000000   8004.000000   8004.000000  8004.000000   \n",
       "mean   1.535434e+18     3.184908     37.122939      1.683783     0.831709   \n",
       "std    8.062387e+15    64.775785    717.146882     50.855764     8.311732   \n",
       "min    1.477580e+18     0.000000      0.000000      0.000000     0.000000   \n",
       "25%    1.536407e+18     0.000000      0.000000      0.000000     0.000000   \n",
       "50%    1.537137e+18     0.000000      1.000000      0.000000     0.000000   \n",
       "75%    1.537712e+18     0.000000      2.000000      0.000000     1.000000   \n",
       "max    1.538691e+18  3574.000000  36095.000000   3613.000000   532.000000   \n",
       "\n",
       "       retweeted_tweet  user_followers  user_following  user_tweets_count  \n",
       "count              0.0    8.004000e+03     8004.000000        8004.000000  \n",
       "mean               NaN    2.724195e+03      690.960145       28257.169665  \n",
       "std                NaN    9.631576e+04     1099.443757       47623.815803  \n",
       "min                NaN    0.000000e+00        0.000000           1.000000  \n",
       "25%                NaN    1.180000e+02      194.000000        4040.750000  \n",
       "50%                NaN    3.205000e+02      400.000000       13593.500000  \n",
       "75%                NaN    8.120000e+02      781.000000       33867.250000  \n",
       "max                NaN    8.512173e+06    33678.000000      984166.000000  "
      ]
     },
     "execution_count": 63,
     "metadata": {},
     "output_type": "execute_result"
    }
   ],
   "source": [
    "# Statistical analysis of the data\n",
    "df_clean.describe()"
   ]
  },
  {
   "cell_type": "markdown",
   "id": "dd5bf45b",
   "metadata": {},
   "source": [
    "## Trend history\n",
    "\n",
    "We scraped tweets from Jan 01, 2022 to Jun 19, 2022. We can see that the trend started  on Jun 12, 2022 and peaked on Jun 16. Interestingly, there is a small peak during March."
   ]
  },
  {
   "cell_type": "code",
   "execution_count": 66,
   "id": "e2f5a6b4",
   "metadata": {},
   "outputs": [
    {
     "data": {
      "text/plain": [
       "<AxesSubplot:xlabel='date', ylabel='tweet_id'>"
      ]
     },
     "execution_count": 66,
     "metadata": {},
     "output_type": "execute_result"
    },
    {
     "data": {
      "image/png": "[encoded data removed]",
      "text/plain": [
       "<Figure size 432x288 with 1 Axes>"
      ]
     },
     "metadata": {},
     "output_type": "display_data"
    }
   ],
   "source": [
    "sns.set_style(\"whitegrid\")\n",
    "df_count = df_clean['tweet_id'].groupby(by=df_clean['date'].dt.date).count().sort_values(ascending=False)\n",
    "sns.lineplot(data=df_count)"
   ]
  },
  {
   "cell_type": "code",
   "execution_count": 67,
   "id": "ff67ff7f",
   "metadata": {},
   "outputs": [
    {
     "data": {
      "text/plain": [
       "date\n",
       "2022-06-16    1517\n",
       "2022-06-13    1274\n",
       "2022-06-17    1231\n",
       "2022-06-14     955\n",
       "2022-06-15     954\n",
       "2022-06-18     801\n",
       "2022-06-19     509\n",
       "2022-06-12     203\n",
       "2022-06-20      86\n",
       "2022-03-03      51\n",
       "Name: tweet_id, dtype: int64"
      ]
     },
     "execution_count": 67,
     "metadata": {},
     "output_type": "execute_result"
    }
   ],
   "source": [
    "df_count.sort_values(ascending=False).head(10)"
   ]
  },
  {
   "cell_type": "markdown",
   "id": "48a98c7b",
   "metadata": {},
   "source": [
    "## Top Tweets\n",
    "Below we filtered the data to include only tweets that were posted on June 12, 2022. We then sorted by likes, and we can see the originating tweet of the trend"
   ]
  },
  {
   "cell_type": "code",
   "execution_count": 68,
   "id": "08a1fe2e",
   "metadata": {},
   "outputs": [
    {
     "data": {
      "text/html": [
       "<div>\n",
       "<style scoped>\n",
       "    .dataframe tbody tr th:only-of-type {\n",
       "        vertical-align: middle;\n",
       "    }\n",
       "\n",
       "    .dataframe tbody tr th {\n",
       "        vertical-align: top;\n",
       "    }\n",
       "\n",
       "    .dataframe thead th {\n",
       "        text-align: right;\n",
       "    }\n",
       "</style>\n",
       "<table border=\"1\" class=\"dataframe\">\n",
       "  <thead>\n",
       "    <tr style=\"text-align: right;\">\n",
       "      <th></th>\n",
       "      <th>tweet</th>\n",
       "      <th>user_name</th>\n",
       "      <th>likes</th>\n",
       "      <th>retweets</th>\n",
       "    </tr>\n",
       "  </thead>\n",
       "  <tbody>\n",
       "    <tr>\n",
       "      <th>7556</th>\n",
       "      <td>Tropical Hut in Escolta, ako lang ang customer...</td>\n",
       "      <td>dumidyeypee</td>\n",
       "      <td>34646</td>\n",
       "      <td>3574</td>\n",
       "    </tr>\n",
       "    <tr>\n",
       "      <th>7555</th>\n",
       "      <td>I remember eating out with my family in Tropic...</td>\n",
       "      <td>dumidyeypee</td>\n",
       "      <td>1691</td>\n",
       "      <td>47</td>\n",
       "    </tr>\n",
       "    <tr>\n",
       "      <th>7532</th>\n",
       "      <td>@dumidyeypee May Tropical Hut sa Makati. My of...</td>\n",
       "      <td>lanaroadzz</td>\n",
       "      <td>1265</td>\n",
       "      <td>34</td>\n",
       "    </tr>\n",
       "    <tr>\n",
       "      <th>7426</th>\n",
       "      <td>Tropical Hut if you don't mind is owned by Mer...</td>\n",
       "      <td>Shirley47569882</td>\n",
       "      <td>867</td>\n",
       "      <td>75</td>\n",
       "    </tr>\n",
       "    <tr>\n",
       "      <th>7392</th>\n",
       "      <td>Not gonna lie. I'm surprise Tropical Hut is tr...</td>\n",
       "      <td>SepiaMetanoia</td>\n",
       "      <td>462</td>\n",
       "      <td>59</td>\n",
       "    </tr>\n",
       "    <tr>\n",
       "      <th>7455</th>\n",
       "      <td>How Tropical Hut serves so much affordable and...</td>\n",
       "      <td>__Miggyyy</td>\n",
       "      <td>391</td>\n",
       "      <td>43</td>\n",
       "    </tr>\n",
       "    <tr>\n",
       "      <th>7523</th>\n",
       "      <td>@dumidyeypee Nakakalungkot ang ambience sa Tro...</td>\n",
       "      <td>_stephsun</td>\n",
       "      <td>389</td>\n",
       "      <td>14</td>\n",
       "    </tr>\n",
       "    <tr>\n",
       "      <th>7547</th>\n",
       "      <td>@dumidyeypee who owns tropical hut? kailangan ...</td>\n",
       "      <td>krephel1218</td>\n",
       "      <td>377</td>\n",
       "      <td>1</td>\n",
       "    </tr>\n",
       "    <tr>\n",
       "      <th>7521</th>\n",
       "      <td>@dumidyeypee Underated fastfood sa generation ...</td>\n",
       "      <td>LadyVodka10</td>\n",
       "      <td>317</td>\n",
       "      <td>10</td>\n",
       "    </tr>\n",
       "    <tr>\n",
       "      <th>7513</th>\n",
       "      <td>@_thepaulorubio @MrlnSngco @krephel1218 @dumid...</td>\n",
       "      <td>_picassomnlpex</td>\n",
       "      <td>307</td>\n",
       "      <td>5</td>\n",
       "    </tr>\n",
       "  </tbody>\n",
       "</table>\n",
       "</div>"
      ],
      "text/plain": [
       "                                                  tweet        user_name  \\\n",
       "7556  Tropical Hut in Escolta, ako lang ang customer...      dumidyeypee   \n",
       "7555  I remember eating out with my family in Tropic...      dumidyeypee   \n",
       "7532  @dumidyeypee May Tropical Hut sa Makati. My of...       lanaroadzz   \n",
       "7426  Tropical Hut if you don't mind is owned by Mer...  Shirley47569882   \n",
       "7392  Not gonna lie. I'm surprise Tropical Hut is tr...    SepiaMetanoia   \n",
       "7455  How Tropical Hut serves so much affordable and...        __Miggyyy   \n",
       "7523  @dumidyeypee Nakakalungkot ang ambience sa Tro...        _stephsun   \n",
       "7547  @dumidyeypee who owns tropical hut? kailangan ...      krephel1218   \n",
       "7521  @dumidyeypee Underated fastfood sa generation ...      LadyVodka10   \n",
       "7513  @_thepaulorubio @MrlnSngco @krephel1218 @dumid...   _picassomnlpex   \n",
       "\n",
       "      likes  retweets  \n",
       "7556  34646      3574  \n",
       "7555   1691        47  \n",
       "7532   1265        34  \n",
       "7426    867        75  \n",
       "7392    462        59  \n",
       "7455    391        43  \n",
       "7523    389        14  \n",
       "7547    377         1  \n",
       "7521    317        10  \n",
       "7513    307         5  "
      ]
     },
     "execution_count": 68,
     "metadata": {},
     "output_type": "execute_result"
    }
   ],
   "source": [
    "df_jun12 = df_clean[['tweet', 'user_name', 'likes', 'retweets']][(df_clean.date > '2022-06-12') & (df_clean.date < '2022-06-13')].sort_values('likes', ascending=False)\n",
    "df_jun12.head(10)"
   ]
  },
  {
   "cell_type": "code",
   "execution_count": 69,
   "id": "2302f182",
   "metadata": {},
   "outputs": [
    {
     "name": "stdout",
     "output_type": "stream",
     "text": [
      "dumidyeypee\tTropical Hut in Escolta, ako lang ang customer nila. https://t.co/Wl8VcuWT6c\n",
      "dumidyeypee\tI remember eating out with my family in Tropical Hut along Baymart Plaza in Lower Bicutan. Really competing sila with the likes of Jollibee and Chowking (hindi pa binili ni Jollibee era).\n",
      "lanaroadzz\t@dumidyeypee May Tropical Hut sa Makati. My officemates and I order breakfast. Masarap na, sulit pa! Ham and mushroom omelette, garlic rice or toasted bread, brewed coffee and pineapple juice for 99pesos lang!\n",
      "Shirley47569882\tTropical Hut if you don't mind is owned by Mercury Drugstore from Que Family 🙂kaya food ay Healthy na nakakabusog!\n",
      "SepiaMetanoia\tNot gonna lie. I'm surprise Tropical Hut is trending right now in the Philippines.\n",
      "\n",
      "Glad most Filipinos are fondly remember this restaurant. And this come from someone who rarely eats here for year. #TropicalHut https://t.co/PLWQ14BBTn\n",
      "__Miggyyy\tHow Tropical Hut serves so much affordable and better quality food than mainstream fastfood chains like Jollibee is just amazing. https://t.co/WGZ3OpPlnu\n",
      "_stephsun\t@dumidyeypee Nakakalungkot ang ambience sa Tropical Hut pero winner ang foods. Their  spring chicken is so good and their sandwiches as well.\n",
      "krephel1218\t@dumidyeypee who owns tropical hut? kailangan lang ng rebranding to para lumakas ulit at big endorsers\n",
      "LadyVodka10\t@dumidyeypee Underated fastfood sa generation ngaun. Hindi nila alam ang sarap ng burger sa tropical hut. 😞 Hindi pang socmed ang ambiance pero swak sa bulsa at sobrang sarap.\n",
      "_picassomnlpex\t@_thepaulorubio @MrlnSngco @krephel1218 @dumidyeypee Maybe explains why there's no Tropical Hut in SM Malls which also explains the gap in brand visibility\n"
     ]
    }
   ],
   "source": [
    "for i in range(10):\n",
    "    print(f'{df_jun12.iloc[i].user_name}\\t{df_jun12.iloc[i].tweet}')"
   ]
  },
  {
   "cell_type": "markdown",
   "id": "dcf4e6f0",
   "metadata": {},
   "source": [
    "Below we focused on Jun 19. The peak of the trend. The 3rd and 4th highest likes here appear to be from their social media account."
   ]
  },
  {
   "cell_type": "code",
   "execution_count": 70,
   "id": "c78ba63d",
   "metadata": {},
   "outputs": [
    {
     "data": {
      "text/html": [
       "<div>\n",
       "<style scoped>\n",
       "    .dataframe tbody tr th:only-of-type {\n",
       "        vertical-align: middle;\n",
       "    }\n",
       "\n",
       "    .dataframe tbody tr th {\n",
       "        vertical-align: top;\n",
       "    }\n",
       "\n",
       "    .dataframe thead th {\n",
       "        text-align: right;\n",
       "    }\n",
       "</style>\n",
       "<table border=\"1\" class=\"dataframe\">\n",
       "  <thead>\n",
       "    <tr style=\"text-align: right;\">\n",
       "      <th></th>\n",
       "      <th>tweet</th>\n",
       "      <th>user_name</th>\n",
       "      <th>likes</th>\n",
       "      <th>retweets</th>\n",
       "    </tr>\n",
       "  </thead>\n",
       "  <tbody>\n",
       "    <tr>\n",
       "      <th>3469</th>\n",
       "      <td>We jumped into the trend! \\nOrdered a lot from...</td>\n",
       "      <td>MINlRM</td>\n",
       "      <td>24805</td>\n",
       "      <td>1651</td>\n",
       "    </tr>\n",
       "    <tr>\n",
       "      <th>2930</th>\n",
       "      <td>Tropical Hut getting increased sales is why I ...</td>\n",
       "      <td>prodeeboy</td>\n",
       "      <td>5119</td>\n",
       "      <td>586</td>\n",
       "    </tr>\n",
       "    <tr>\n",
       "      <th>3044</th>\n",
       "      <td>#TropicalHut #THHamburger #SarapNaBabalikbalik...</td>\n",
       "      <td>THHamburger</td>\n",
       "      <td>3506</td>\n",
       "      <td>613</td>\n",
       "    </tr>\n",
       "    <tr>\n",
       "      <th>3048</th>\n",
       "      <td>@dumidyeypee Maraming salamat, Tropical Hut lo...</td>\n",
       "      <td>THHamburger</td>\n",
       "      <td>1408</td>\n",
       "      <td>111</td>\n",
       "    </tr>\n",
       "    <tr>\n",
       "      <th>3262</th>\n",
       "      <td>Update: Saw this Tropical Hut ad from my lolo'...</td>\n",
       "      <td>LiaSanMateo</td>\n",
       "      <td>551</td>\n",
       "      <td>50</td>\n",
       "    </tr>\n",
       "    <tr>\n",
       "      <th>3577</th>\n",
       "      <td>Again, try tropical hut. Sabi ng mga staff dit...</td>\n",
       "      <td>yeol_mistress</td>\n",
       "      <td>441</td>\n",
       "      <td>46</td>\n",
       "    </tr>\n",
       "    <tr>\n",
       "      <th>3298</th>\n",
       "      <td>Kahapon ko pa nababasa ang tweets tungkol sa T...</td>\n",
       "      <td>DocHappy95</td>\n",
       "      <td>417</td>\n",
       "      <td>16</td>\n",
       "    </tr>\n",
       "    <tr>\n",
       "      <th>3012</th>\n",
       "      <td>GUYS!!! MAY BAGONG TWITTER NA RAW ANG TROPICAL...</td>\n",
       "      <td>MINlRM</td>\n",
       "      <td>317</td>\n",
       "      <td>28</td>\n",
       "    </tr>\n",
       "    <tr>\n",
       "      <th>3309</th>\n",
       "      <td>Nakapag-Tropical Hut na ba ang lahat https://t...</td>\n",
       "      <td>SofiaMonica_</td>\n",
       "      <td>128</td>\n",
       "      <td>2</td>\n",
       "    </tr>\n",
       "    <tr>\n",
       "      <th>2847</th>\n",
       "      <td>Tropical Hut for tonight's dinner 🍍🍍\\nSobrang ...</td>\n",
       "      <td>jmyosures</td>\n",
       "      <td>101</td>\n",
       "      <td>3</td>\n",
       "    </tr>\n",
       "  </tbody>\n",
       "</table>\n",
       "</div>"
      ],
      "text/plain": [
       "                                                  tweet      user_name  likes  \\\n",
       "3469  We jumped into the trend! \\nOrdered a lot from...         MINlRM  24805   \n",
       "2930  Tropical Hut getting increased sales is why I ...      prodeeboy   5119   \n",
       "3044  #TropicalHut #THHamburger #SarapNaBabalikbalik...    THHamburger   3506   \n",
       "3048  @dumidyeypee Maraming salamat, Tropical Hut lo...    THHamburger   1408   \n",
       "3262  Update: Saw this Tropical Hut ad from my lolo'...    LiaSanMateo    551   \n",
       "3577  Again, try tropical hut. Sabi ng mga staff dit...  yeol_mistress    441   \n",
       "3298  Kahapon ko pa nababasa ang tweets tungkol sa T...     DocHappy95    417   \n",
       "3012  GUYS!!! MAY BAGONG TWITTER NA RAW ANG TROPICAL...         MINlRM    317   \n",
       "3309  Nakapag-Tropical Hut na ba ang lahat https://t...   SofiaMonica_    128   \n",
       "2847  Tropical Hut for tonight's dinner 🍍🍍\\nSobrang ...      jmyosures    101   \n",
       "\n",
       "      retweets  \n",
       "3469      1651  \n",
       "2930       586  \n",
       "3044       613  \n",
       "3048       111  \n",
       "3262        50  \n",
       "3577        46  \n",
       "3298        16  \n",
       "3012        28  \n",
       "3309         2  \n",
       "2847         3  "
      ]
     },
     "execution_count": 70,
     "metadata": {},
     "output_type": "execute_result"
    }
   ],
   "source": [
    "df_jun16 = df_clean[['tweet', 'user_name', 'likes', 'retweets']][(df_clean.date > '2022-06-16') & (df_clean.date < '2022-06-17')].sort_values('likes', ascending=False)\n",
    "df_jun16.head(10)"
   ]
  },
  {
   "cell_type": "code",
   "execution_count": 72,
   "id": "0a091e69",
   "metadata": {},
   "outputs": [
    {
     "name": "stdout",
     "output_type": "stream",
     "text": [
      "MINlRM\tWe jumped into the trend! \n",
      "Ordered a lot from Tropical Hut.\n",
      "I grew up with TH because of my aunts where they work and they always tream me there.\n",
      "\n",
      "I ordered the BB - Big shot breakfast, for only 190 (?) Rice, ham, mushroom &amp; cheese omelette, chicken lumpia &amp; burger steak! https://t.co/SHWTbruviR\n",
      "prodeeboy\tTropical Hut getting increased sales is why I believe Twitter is a different kind of echo chamber. It has the capacity to affect the real world.\n",
      "THHamburger\t#TropicalHut #THHamburger #SarapNaBabalikbalikan https://t.co/S02aGAVVYc\n",
      "THHamburger\t@dumidyeypee Maraming salamat, Tropical Hut lovers ❤️ for the heartwarming words of appreciation! \n",
      "We value your patronage. See you at #TropicalHut!\n",
      "#SarapNaBabalikbalikan\n",
      "LiaSanMateo\tUpdate: Saw this Tropical Hut ad from my lolo's magazine collection. This Panorama issue was published in 1977—45 years ago. 😳 Guess it really is the OG. https://t.co/RURrlz8R5y\n",
      "yeol_mistress\tAgain, try tropical hut. Sabi ng mga staff dito, ang dami namin customers mam. Trending kami sa twitter. Saya nila. https://t.co/BRxaYzu5vf\n",
      "DocHappy95\tKahapon ko pa nababasa ang tweets tungkol sa Tropical Hut. Gusto ko tuloy pumunta ng NLEX para bumili😅\n",
      "MINlRM\tGUYS!!! MAY BAGONG TWITTER NA RAW ANG TROPICAL HUT!!! ITEZ NA RAW: https://t.co/UfLiIh8u1n\n",
      "SofiaMonica_\tNakapag-Tropical Hut na ba ang lahat https://t.co/MrlMnXcz19\n",
      "jmyosures\tTropical Hut for tonight's dinner 🍍🍍\n",
      "Sobrang nostalgic talaga ng stores nila 🙌 https://t.co/ycz4O7J5CQ\n"
     ]
    }
   ],
   "source": [
    "for i in range(10):\n",
    "    print(f'{df_jun16.iloc[i].user_name}\\t{df_jun16.iloc[i].tweet}')"
   ]
  },
  {
   "cell_type": "markdown",
   "id": "29026166",
   "metadata": {},
   "source": [
    "Here are the top tweets from that small bump during March"
   ]
  },
  {
   "cell_type": "code",
   "execution_count": 73,
   "id": "06e48180",
   "metadata": {},
   "outputs": [
    {
     "data": {
      "text/html": [
       "<div>\n",
       "<style scoped>\n",
       "    .dataframe tbody tr th:only-of-type {\n",
       "        vertical-align: middle;\n",
       "    }\n",
       "\n",
       "    .dataframe tbody tr th {\n",
       "        vertical-align: top;\n",
       "    }\n",
       "\n",
       "    .dataframe thead th {\n",
       "        text-align: right;\n",
       "    }\n",
       "</style>\n",
       "<table border=\"1\" class=\"dataframe\">\n",
       "  <thead>\n",
       "    <tr style=\"text-align: right;\">\n",
       "      <th></th>\n",
       "      <th>tweet</th>\n",
       "      <th>user_name</th>\n",
       "      <th>likes</th>\n",
       "      <th>retweets</th>\n",
       "    </tr>\n",
       "  </thead>\n",
       "  <tbody>\n",
       "    <tr>\n",
       "      <th>8049</th>\n",
       "      <td>Ako lang ba or may iba rin na ang gold standar...</td>\n",
       "      <td>oslecjunior</td>\n",
       "      <td>1245</td>\n",
       "      <td>39</td>\n",
       "    </tr>\n",
       "    <tr>\n",
       "      <th>7980</th>\n",
       "      <td>These just came in. \\n\\nHappiness in a photo.\\...</td>\n",
       "      <td>oslecjunior</td>\n",
       "      <td>140</td>\n",
       "      <td>2</td>\n",
       "    </tr>\n",
       "    <tr>\n",
       "      <th>8013</th>\n",
       "      <td>@oslecjunior Yes. For me, yung pickle sa burge...</td>\n",
       "      <td>MagnoliaZoleta</td>\n",
       "      <td>20</td>\n",
       "      <td>0</td>\n",
       "    </tr>\n",
       "    <tr>\n",
       "      <th>8040</th>\n",
       "      <td>@oslecjunior DEFINITELY Tropical Hut tops them...</td>\n",
       "      <td>burgoscm333</td>\n",
       "      <td>20</td>\n",
       "      <td>0</td>\n",
       "    </tr>\n",
       "    <tr>\n",
       "      <th>7997</th>\n",
       "      <td>@FhqJackie Yes. Queens, Shop-Rite, Tropical Hu...</td>\n",
       "      <td>enriquietto1</td>\n",
       "      <td>15</td>\n",
       "      <td>2</td>\n",
       "    </tr>\n",
       "    <tr>\n",
       "      <th>8035</th>\n",
       "      <td>@oslecjunior Ranchero Burger FTW!!! I always l...</td>\n",
       "      <td>otepmed1</td>\n",
       "      <td>11</td>\n",
       "      <td>0</td>\n",
       "    </tr>\n",
       "    <tr>\n",
       "      <th>7985</th>\n",
       "      <td>@enriquietto1 @FhqJackie Tropical Hut supermar...</td>\n",
       "      <td>DolorNolet</td>\n",
       "      <td>7</td>\n",
       "      <td>0</td>\n",
       "    </tr>\n",
       "    <tr>\n",
       "      <th>8047</th>\n",
       "      <td>@oslecjunior Uy, namiss ko yan. Favorite ko ri...</td>\n",
       "      <td>docemdy</td>\n",
       "      <td>6</td>\n",
       "      <td>0</td>\n",
       "    </tr>\n",
       "    <tr>\n",
       "      <th>8048</th>\n",
       "      <td>@oslecjunior Grabe, iba ang sarap ng Tropical ...</td>\n",
       "      <td>janeyan_23</td>\n",
       "      <td>4</td>\n",
       "      <td>0</td>\n",
       "    </tr>\n",
       "    <tr>\n",
       "      <th>8043</th>\n",
       "      <td>@oslecjunior Masarap ang Bistek Tagalog ng Tro...</td>\n",
       "      <td>prukotooch</td>\n",
       "      <td>4</td>\n",
       "      <td>0</td>\n",
       "    </tr>\n",
       "  </tbody>\n",
       "</table>\n",
       "</div>"
      ],
      "text/plain": [
       "                                                  tweet       user_name  \\\n",
       "8049  Ako lang ba or may iba rin na ang gold standar...     oslecjunior   \n",
       "7980  These just came in. \\n\\nHappiness in a photo.\\...     oslecjunior   \n",
       "8013  @oslecjunior Yes. For me, yung pickle sa burge...  MagnoliaZoleta   \n",
       "8040  @oslecjunior DEFINITELY Tropical Hut tops them...     burgoscm333   \n",
       "7997  @FhqJackie Yes. Queens, Shop-Rite, Tropical Hu...    enriquietto1   \n",
       "8035  @oslecjunior Ranchero Burger FTW!!! I always l...        otepmed1   \n",
       "7985  @enriquietto1 @FhqJackie Tropical Hut supermar...      DolorNolet   \n",
       "8047  @oslecjunior Uy, namiss ko yan. Favorite ko ri...         docemdy   \n",
       "8048  @oslecjunior Grabe, iba ang sarap ng Tropical ...      janeyan_23   \n",
       "8043  @oslecjunior Masarap ang Bistek Tagalog ng Tro...      prukotooch   \n",
       "\n",
       "      likes  retweets  \n",
       "8049   1245        39  \n",
       "7980    140         2  \n",
       "8013     20         0  \n",
       "8040     20         0  \n",
       "7997     15         2  \n",
       "8035     11         0  \n",
       "7985      7         0  \n",
       "8047      6         0  \n",
       "8048      4         0  \n",
       "8043      4         0  "
      ]
     },
     "execution_count": 73,
     "metadata": {},
     "output_type": "execute_result"
    }
   ],
   "source": [
    "df_mar2 = df_clean[['tweet', 'user_name', 'likes', 'retweets']][(df_clean.date > '2022-03-02') & (df_clean.date < '2022-03-04')].sort_values('likes', ascending=False)\n",
    "df_mar2.head(10)"
   ]
  },
  {
   "cell_type": "code",
   "execution_count": 74,
   "id": "7c6503a2",
   "metadata": {},
   "outputs": [
    {
     "name": "stdout",
     "output_type": "stream",
     "text": [
      "Ako lang ba or may iba rin na ang gold standard sa burger ay Tropical Hut hamburgers? Please tell me I’m not alone. 😅😬\n",
      "\n",
      "#TitoOfManila\n",
      "These just came in. \n",
      "\n",
      "Happiness in a photo.\n",
      "\n",
      "#TropicalHut https://t.co/AtjZtZj5Du\n",
      "@oslecjunior Yes. For me, yung pickle sa burger nila yung nagdala.🥰 Yung ilalapit mo pa lang sa bibig mo, you’d smell the unique smell of a true burger. Huling kain ko sa Tropical Hut sa may tabi ng Crispa pa yon was &gt; 20yrs ago pa but I won’t forget the taste. Walang sinabi mga burgers now.\n",
      "@oslecjunior DEFINITELY Tropical Hut tops them all ! burger  that's real meaty, big fried chicken that's not too salty, creamy potato salad, bistek tagalog that's so yummy,  sarap tuna and chicken sandwich  and much more...and polite staff and   fast service too.\n",
      "@FhqJackie Yes. Queens, Shop-Rite, Tropical Hut groceries. Metro Manila at that time was not yet congested with ppl, vehicles and pollution.\n",
      "@oslecjunior Ranchero Burger FTW!!! I always look forward uwian kami ng erpat ko nyan pag sahod nya.  Childhood memories 😊.  \n",
      "\n",
      "And even now, pag nakakakain sa Tropical Hut eh same happiness pa din ang binibigay ng Ranchero Burger sa akin. And yes, still the same taste. 😊\n",
      "@enriquietto1 @FhqJackie Tropical Hut supermart was taken over by Mercury Drug whose grocery operations are now under Mercury. But its nice that the hamburger chain has been retained--and still I luv their burgers. Yet the orig Tropical Hut along EDSA-Ortigas has had that huge hole for decades now🤔\n",
      "@oslecjunior Uy, namiss ko yan. Favorite ko rin yan. Standard order ko before was the rancho ranchero but now prefer the basic tropical hut cheeseburger. We used to go to their branch near the EDSA-Ortigas intersection.\n",
      "@oslecjunior Grabe, iba ang sarap ng Tropical Hut burger Sir\n",
      "@oslecjunior Masarap ang Bistek Tagalog ng Tropical Hut.  Yun ang naging comfort food ko after I took the ECE Licensure Exam noong 2007.  When I am not confident that I will pass.  Thankfully I did though kaya may special place ang Tropical Hut Congressional sa akin.\n"
     ]
    }
   ],
   "source": [
    "for i in range(10):\n",
    "    print(df_mar2.iloc[i].tweet)"
   ]
  },
  {
   "cell_type": "markdown",
   "id": "2efa992e",
   "metadata": {},
   "source": [
    "## Users analysis\n",
    "First I checked which users tweeted about the topic the most. Overwhelming majority of users tweeted less than 10 times. Twitter user @dumidyeypee (author of the initial tweet) only has 15 tweets, while user @eufems tweeted 46 times. The newly created @THHamburger (official account) only tweeted 11 times. I printed the most popular tweets from the most prolific accounts below."
   ]
  },
  {
   "cell_type": "code",
   "execution_count": 136,
   "id": "56cb2239",
   "metadata": {},
   "outputs": [
    {
     "data": {
      "text/plain": [
       "user_name\n",
       "eufems             46\n",
       "robert1001smith    27\n",
       "njytolentino       27\n",
       "pauloMDtweets      22\n",
       "dumidyeypee        15\n",
       "supernegatrona     14\n",
       "LiaSanMateo        14\n",
       "rambodevera        14\n",
       "djunisan           13\n",
       "THHamburger        11\n",
       "Name: tweet_id, dtype: int64"
      ]
     },
     "execution_count": 136,
     "metadata": {},
     "output_type": "execute_result"
    }
   ],
   "source": [
    "df_clean.groupby('user_name')['tweet_id'].count().sort_values(ascending=False).head(10)"
   ]
  },
  {
   "cell_type": "code",
   "execution_count": 151,
   "id": "4db1949b",
   "metadata": {},
   "outputs": [
    {
     "data": {
      "text/plain": [
       "<seaborn.axisgrid.FacetGrid at 0x28e601895b0>"
      ]
     },
     "execution_count": 151,
     "metadata": {},
     "output_type": "execute_result"
    },
    {
     "data": {
      "image/png": "[encoded data removed]",
      "text/plain": [
       "<Figure size 360x360 with 1 Axes>"
      ]
     },
     "metadata": {},
     "output_type": "display_data"
    }
   ],
   "source": [
    "sns.displot(data=df_clean.groupby('user_name')['tweet_id'].count().sort_values(ascending=False))"
   ]
  },
  {
   "cell_type": "code",
   "execution_count": 141,
   "id": "fd1a2470",
   "metadata": {},
   "outputs": [
    {
     "name": "stdout",
     "output_type": "stream",
     "text": [
      "Kasalukuyang sitwasyon sa Tropical Hut Panay Avenue branch. Mahaba ang pila kapwa ng dine in at Grab. (Heck nung tinweet ko ito dumami yung nakapila 😂) https://t.co/qoWa2b8nZk\n",
      "As a Tropical Hut kid (both hamburger and supermarket, where Mama works), I appreciate this Tropical Hut resurgence. Masarap ang burgers nila pramis. Plus, may isang item on the menu that goes 50% less every 7th of the month. Meron din silang Filipino menu &lt;3 https://t.co/mKgB6mJvqX\n",
      "Resibo #SarapNaBabalikBalikan #TropicalHut https://t.co/LVKeO2Zstb\n",
      "Ulitin ko lang bilang anak ng Isang dating opisyal ng Tropical Hut Employees Union: Mercury Drug does not own and manage Tropical Hut. Both are owned by *different* members of the Que Family although part of the Mercury Group of Co. Each has a separate management. https://t.co/lQZrHzu2ZI\n",
      "Nag-enjoy na ba tayo? Damay na natin yung grocery ng Tropical Hut. Trivia: nauna yung grocery kaysa sa hamburger joint 😁 https://t.co/tqFcQ99ukn\n"
     ]
    }
   ],
   "source": [
    "for tweet in df_clean[df.user_name == 'eufems'].sort_values('likes', ascending=False).head().tweet:\n",
    "    print(tweet)"
   ]
  },
  {
   "cell_type": "code",
   "execution_count": 142,
   "id": "daf70f13",
   "metadata": {},
   "outputs": [
    {
     "name": "stdout",
     "output_type": "stream",
     "text": [
      "@awesome_drew Pagpasensyahan mo na kunti lng tlga food crew nila sa store -- try it on diff time of the day. Mainit yan ngayon kasi trending sila, sna ma-sustain yung energy ng buyers. #TropicalHut\n",
      "@b_bukid @dumidyeypee In Pioneer Pasig Tropical hut 🌴🍍 kahit hatinggabe daw maraming diners. https://t.co/KubCVpqQio\n",
      "@b_bukid @dumidyeypee Habang naghihintay ng nanakawan dpat kumaen sa Tropical Hut. 🍽🔪💗 https://t.co/5nr7fiay5z\n",
      "@Oragoneh @supernegatrona Sarap nyan Tropical Hut Chicken Spring at yung amoy authentic tlga.\n",
      "@b_bukid @dumidyeypee LOLs mas dumami yung repapips makaalis na nga. #TropicalHut https://t.co/kQUq0QMWaE\n"
     ]
    }
   ],
   "source": [
    "for tweet in df_clean[df.user_name == 'robert1001smith'].sort_values('likes', ascending=False).head().tweet:\n",
    "    print(tweet)"
   ]
  },
  {
   "cell_type": "code",
   "execution_count": 145,
   "id": "dcc4e338",
   "metadata": {},
   "outputs": [
    {
     "name": "stdout",
     "output_type": "stream",
     "text": [
      "To province based twt, maybe wag niyo hintayin ang Tropical Hut, discover your region's underrated fastfood, diner or even burger joint https://t.co/ti8AHJ7JDt\n",
      "Since localized ang Tropical Hut hype sa Metro Manila and nearby towns, ano ano ang sikat na local fastfood sa inyo? Cindy's is still strong in North and Central Luzon, Biggs in Bicol.\n",
      "\n",
      "Anong chain ang sikat sa inyo na inyo lang meron?\n",
      "Never quite imagined na pipila na ako para makaorder sa Tropical Hut today.\n",
      "\n",
      "Their delivery orders are their lifesavers now tbh especially may access issues sila since limited branches lang sila. https://t.co/hd1K0NhWzm\n",
      "ngayon lang nakatikim ng tropical hut mga tao? [laughs in Ever Commonwealth, Quezon Memorial, Farmers Cubao and Aurora Cubao] https://t.co/954Z0u7bOO\n",
      "Wala pa bang magtutweet ng \"ako na lang ba ang di nakakain sa Tropical Hut?\"\n"
     ]
    }
   ],
   "source": [
    "for tweet in df_clean[df.user_name == 'njytolentino'].sort_values('likes', ascending=False).head(5).tweet:\n",
    "    print(tweet)"
   ]
  },
  {
   "cell_type": "markdown",
   "id": "dc6e1a82",
   "metadata": {},
   "source": [
    "In this section, I looked at the biggest accounts that joined the trend. 4 out of the top 5 are \"news\" accounts and the remaining one is a celebrity. Looking at the statistics, 75% of the users have 715 or less followers."
   ]
  },
  {
   "cell_type": "code",
   "execution_count": 130,
   "id": "498f944d",
   "metadata": {},
   "outputs": [
    {
     "data": {
      "text/html": [
       "<div>\n",
       "<style scoped>\n",
       "    .dataframe tbody tr th:only-of-type {\n",
       "        vertical-align: middle;\n",
       "    }\n",
       "\n",
       "    .dataframe tbody tr th {\n",
       "        vertical-align: top;\n",
       "    }\n",
       "\n",
       "    .dataframe thead th {\n",
       "        text-align: right;\n",
       "    }\n",
       "</style>\n",
       "<table border=\"1\" class=\"dataframe\">\n",
       "  <thead>\n",
       "    <tr style=\"text-align: right;\">\n",
       "      <th></th>\n",
       "      <th>user_name</th>\n",
       "      <th>user_display_name</th>\n",
       "      <th>user_followers</th>\n",
       "      <th>user_following</th>\n",
       "      <th>user_created</th>\n",
       "      <th>user_tweets_count</th>\n",
       "    </tr>\n",
       "  </thead>\n",
       "  <tbody>\n",
       "    <tr>\n",
       "      <th>6129</th>\n",
       "      <td>ABSCBNNews</td>\n",
       "      <td>ABS-CBN News</td>\n",
       "      <td>8512173</td>\n",
       "      <td>1063</td>\n",
       "      <td>2008-08-16 18:09:33+08:00</td>\n",
       "      <td>984166</td>\n",
       "    </tr>\n",
       "    <tr>\n",
       "      <th>5018</th>\n",
       "      <td>manilabulletin</td>\n",
       "      <td>Manila Bulletin News</td>\n",
       "      <td>1060285</td>\n",
       "      <td>213</td>\n",
       "      <td>2008-07-10 15:55:26+08:00</td>\n",
       "      <td>751841</td>\n",
       "    </tr>\n",
       "    <tr>\n",
       "      <th>5242</th>\n",
       "      <td>yaelyraz</td>\n",
       "      <td>Yael Yrastorza Yuzon</td>\n",
       "      <td>387886</td>\n",
       "      <td>1814</td>\n",
       "      <td>2009-04-23 20:05:33+08:00</td>\n",
       "      <td>54779</td>\n",
       "    </tr>\n",
       "    <tr>\n",
       "      <th>2496</th>\n",
       "      <td>interaksyon</td>\n",
       "      <td>Interaksyon</td>\n",
       "      <td>213368</td>\n",
       "      <td>106</td>\n",
       "      <td>2011-01-25 19:24:31+08:00</td>\n",
       "      <td>200488</td>\n",
       "    </tr>\n",
       "    <tr>\n",
       "      <th>5309</th>\n",
       "      <td>Spotdotph</td>\n",
       "      <td>SPOT.ph</td>\n",
       "      <td>151122</td>\n",
       "      <td>972</td>\n",
       "      <td>2009-03-31 22:10:17+08:00</td>\n",
       "      <td>59972</td>\n",
       "    </tr>\n",
       "  </tbody>\n",
       "</table>\n",
       "</div>"
      ],
      "text/plain": [
       "           user_name     user_display_name  user_followers  user_following  \\\n",
       "6129      ABSCBNNews          ABS-CBN News         8512173            1063   \n",
       "5018  manilabulletin  Manila Bulletin News         1060285             213   \n",
       "5242        yaelyraz  Yael Yrastorza Yuzon          387886            1814   \n",
       "2496     interaksyon           Interaksyon          213368             106   \n",
       "5309       Spotdotph               SPOT.ph          151122             972   \n",
       "\n",
       "                  user_created  user_tweets_count  \n",
       "6129 2008-08-16 18:09:33+08:00             984166  \n",
       "5018 2008-07-10 15:55:26+08:00             751841  \n",
       "5242 2009-04-23 20:05:33+08:00              54779  \n",
       "2496 2011-01-25 19:24:31+08:00             200488  \n",
       "5309 2009-03-31 22:10:17+08:00              59972  "
      ]
     },
     "execution_count": 130,
     "metadata": {},
     "output_type": "execute_result"
    }
   ],
   "source": [
    "users = df_clean[['user_name', 'user_display_name', 'user_followers', 'user_following', 'user_created', 'user_tweets_count']].sort_values('user_followers', ascending=False).drop_duplicates('user_name')\n",
    "users.head()"
   ]
  },
  {
   "cell_type": "code",
   "execution_count": 86,
   "id": "23de3d34",
   "metadata": {},
   "outputs": [
    {
     "data": {
      "text/html": [
       "<div>\n",
       "<style scoped>\n",
       "    .dataframe tbody tr th:only-of-type {\n",
       "        vertical-align: middle;\n",
       "    }\n",
       "\n",
       "    .dataframe tbody tr th {\n",
       "        vertical-align: top;\n",
       "    }\n",
       "\n",
       "    .dataframe thead th {\n",
       "        text-align: right;\n",
       "    }\n",
       "</style>\n",
       "<table border=\"1\" class=\"dataframe\">\n",
       "  <thead>\n",
       "    <tr style=\"text-align: right;\">\n",
       "      <th></th>\n",
       "      <th>user_followers</th>\n",
       "      <th>user_following</th>\n",
       "      <th>user_tweets_count</th>\n",
       "    </tr>\n",
       "  </thead>\n",
       "  <tbody>\n",
       "    <tr>\n",
       "      <th>count</th>\n",
       "      <td>6.307000e+03</td>\n",
       "      <td>6307.000000</td>\n",
       "      <td>6307.000000</td>\n",
       "    </tr>\n",
       "    <tr>\n",
       "      <th>mean</th>\n",
       "      <td>2.708149e+03</td>\n",
       "      <td>626.245600</td>\n",
       "      <td>25177.205645</td>\n",
       "    </tr>\n",
       "    <tr>\n",
       "      <th>std</th>\n",
       "      <td>1.082399e+05</td>\n",
       "      <td>1020.083411</td>\n",
       "      <td>44249.605342</td>\n",
       "    </tr>\n",
       "    <tr>\n",
       "      <th>min</th>\n",
       "      <td>0.000000e+00</td>\n",
       "      <td>0.000000</td>\n",
       "      <td>1.000000</td>\n",
       "    </tr>\n",
       "    <tr>\n",
       "      <th>25%</th>\n",
       "      <td>1.090000e+02</td>\n",
       "      <td>183.000000</td>\n",
       "      <td>3516.500000</td>\n",
       "    </tr>\n",
       "    <tr>\n",
       "      <th>50%</th>\n",
       "      <td>2.960000e+02</td>\n",
       "      <td>374.000000</td>\n",
       "      <td>12187.000000</td>\n",
       "    </tr>\n",
       "    <tr>\n",
       "      <th>75%</th>\n",
       "      <td>7.155000e+02</td>\n",
       "      <td>719.000000</td>\n",
       "      <td>29975.500000</td>\n",
       "    </tr>\n",
       "    <tr>\n",
       "      <th>max</th>\n",
       "      <td>8.512173e+06</td>\n",
       "      <td>33678.000000</td>\n",
       "      <td>984166.000000</td>\n",
       "    </tr>\n",
       "  </tbody>\n",
       "</table>\n",
       "</div>"
      ],
      "text/plain": [
       "       user_followers  user_following  user_tweets_count\n",
       "count    6.307000e+03     6307.000000        6307.000000\n",
       "mean     2.708149e+03      626.245600       25177.205645\n",
       "std      1.082399e+05     1020.083411       44249.605342\n",
       "min      0.000000e+00        0.000000           1.000000\n",
       "25%      1.090000e+02      183.000000        3516.500000\n",
       "50%      2.960000e+02      374.000000       12187.000000\n",
       "75%      7.155000e+02      719.000000       29975.500000\n",
       "max      8.512173e+06    33678.000000      984166.000000"
      ]
     },
     "execution_count": 86,
     "metadata": {},
     "output_type": "execute_result"
    }
   ],
   "source": [
    "users.describe()"
   ]
  },
  {
   "cell_type": "code",
   "execution_count": 82,
   "id": "a30be610",
   "metadata": {},
   "outputs": [
    {
     "data": {
      "text/html": [
       "<div>\n",
       "<style scoped>\n",
       "    .dataframe tbody tr th:only-of-type {\n",
       "        vertical-align: middle;\n",
       "    }\n",
       "\n",
       "    .dataframe tbody tr th {\n",
       "        vertical-align: top;\n",
       "    }\n",
       "\n",
       "    .dataframe thead th {\n",
       "        text-align: right;\n",
       "    }\n",
       "</style>\n",
       "<table border=\"1\" class=\"dataframe\">\n",
       "  <thead>\n",
       "    <tr style=\"text-align: right;\">\n",
       "      <th></th>\n",
       "      <th>tweet</th>\n",
       "      <th>user_name</th>\n",
       "      <th>likes</th>\n",
       "      <th>retweets</th>\n",
       "    </tr>\n",
       "  </thead>\n",
       "  <tbody>\n",
       "    <tr>\n",
       "      <th>6129</th>\n",
       "      <td>Why ‘Tropical Hut’ trended on Twitter, inspiri...</td>\n",
       "      <td>ABSCBNNews</td>\n",
       "      <td>1099</td>\n",
       "      <td>181</td>\n",
       "    </tr>\n",
       "    <tr>\n",
       "      <th>5018</th>\n",
       "      <td>Last June 12, 124th Philippine Independence Da...</td>\n",
       "      <td>manilabulletin</td>\n",
       "      <td>31</td>\n",
       "      <td>9</td>\n",
       "    </tr>\n",
       "    <tr>\n",
       "      <th>5242</th>\n",
       "      <td>OPM Burger #TropicalHut https://t.co/W3i1JjAuv...</td>\n",
       "      <td>yaelyraz</td>\n",
       "      <td>96</td>\n",
       "      <td>10</td>\n",
       "    </tr>\n",
       "    <tr>\n",
       "      <th>5749</th>\n",
       "      <td>What are your fond memories of Tropical Hut? 🍔...</td>\n",
       "      <td>interaksyon</td>\n",
       "      <td>55</td>\n",
       "      <td>12</td>\n",
       "    </tr>\n",
       "    <tr>\n",
       "      <th>5447</th>\n",
       "      <td>OPERATING SINCE 1965\\n\\nThe name “Tropical Hut...</td>\n",
       "      <td>interaksyon</td>\n",
       "      <td>173</td>\n",
       "      <td>41</td>\n",
       "    </tr>\n",
       "    <tr>\n",
       "      <th>323</th>\n",
       "      <td>Most of Tropical Hut's stores are located in M...</td>\n",
       "      <td>interaksyon</td>\n",
       "      <td>6</td>\n",
       "      <td>2</td>\n",
       "    </tr>\n",
       "    <tr>\n",
       "      <th>45</th>\n",
       "      <td>What are your fond memories of Tropical Hut? 🍔...</td>\n",
       "      <td>interaksyon</td>\n",
       "      <td>10</td>\n",
       "      <td>1</td>\n",
       "    </tr>\n",
       "    <tr>\n",
       "      <th>3234</th>\n",
       "      <td>Most of Tropical Hut's stores are located in M...</td>\n",
       "      <td>interaksyon</td>\n",
       "      <td>44</td>\n",
       "      <td>12</td>\n",
       "    </tr>\n",
       "    <tr>\n",
       "      <th>2496</th>\n",
       "      <td>Most of Tropical Hut's stores are located in M...</td>\n",
       "      <td>interaksyon</td>\n",
       "      <td>3</td>\n",
       "      <td>2</td>\n",
       "    </tr>\n",
       "    <tr>\n",
       "      <th>1112</th>\n",
       "      <td>‘WE VALUE YOUR PATRONAGE.’\\n\\nTropical Hut Ham...</td>\n",
       "      <td>interaksyon</td>\n",
       "      <td>67</td>\n",
       "      <td>8</td>\n",
       "    </tr>\n",
       "  </tbody>\n",
       "</table>\n",
       "</div>"
      ],
      "text/plain": [
       "                                                  tweet       user_name  \\\n",
       "6129  Why ‘Tropical Hut’ trended on Twitter, inspiri...      ABSCBNNews   \n",
       "5018  Last June 12, 124th Philippine Independence Da...  manilabulletin   \n",
       "5242  OPM Burger #TropicalHut https://t.co/W3i1JjAuv...        yaelyraz   \n",
       "5749  What are your fond memories of Tropical Hut? 🍔...     interaksyon   \n",
       "5447  OPERATING SINCE 1965\\n\\nThe name “Tropical Hut...     interaksyon   \n",
       "323   Most of Tropical Hut's stores are located in M...     interaksyon   \n",
       "45    What are your fond memories of Tropical Hut? 🍔...     interaksyon   \n",
       "3234  Most of Tropical Hut's stores are located in M...     interaksyon   \n",
       "2496  Most of Tropical Hut's stores are located in M...     interaksyon   \n",
       "1112  ‘WE VALUE YOUR PATRONAGE.’\\n\\nTropical Hut Ham...     interaksyon   \n",
       "\n",
       "      likes  retweets  \n",
       "6129   1099       181  \n",
       "5018     31         9  \n",
       "5242     96        10  \n",
       "5749     55        12  \n",
       "5447    173        41  \n",
       "323       6         2  \n",
       "45       10         1  \n",
       "3234     44        12  \n",
       "2496      3         2  \n",
       "1112     67         8  "
      ]
     },
     "execution_count": 82,
     "metadata": {},
     "output_type": "execute_result"
    }
   ],
   "source": [
    "top_users = users['user_name'].head(10).to_list()\n",
    "df_clean[df_clean['user_name'].isin(top_users)].sort_values('user_followers', ascending=False)[['tweet', 'user_name', 'likes', 'retweets']].head(10)"
   ]
  },
  {
   "cell_type": "markdown",
   "id": "5448d5f1",
   "metadata": {},
   "source": [
    "## Users' account age\n",
    "\n",
    "Whenever there's a trend, it is interesting to look at the age of accounts. Looking at the graph below, about 23% of accounts are created after 2020."
   ]
  },
  {
   "cell_type": "code",
   "execution_count": 114,
   "id": "9383af35",
   "metadata": {},
   "outputs": [
    {
     "name": "stdout",
     "output_type": "stream",
     "text": [
      "Percent of users created 2020 onwards: 0.23925796733787855\n",
      "Percent of users created 2020 onwards: 0.04899318217853179\n"
     ]
    },
    {
     "data": {
      "image/png": "[encoded data removed]",
      "text/plain": [
       "<Figure size 360x360 with 1 Axes>"
      ]
     },
     "metadata": {},
     "output_type": "display_data"
    }
   ],
   "source": [
    "sns.displot(users, x='user_created', kind=\"ecdf\")\n",
    "print(f'Percent of users created 2020 onwards: {users[users.user_created >= \"2020-01-01\"].shape[0]/users.shape[0]}')\n",
    "print(f'Percent of users created 2020 onwards: {users[users.user_created > \"2022-01-01\"].shape[0]/users.shape[0]}')"
   ]
  },
  {
   "cell_type": "markdown",
   "id": "7559b673",
   "metadata": {},
   "source": [
    "We separated the accounts created only during 2022. From this new group, most of the tweets came from their new twitter account. The remaining accounts only tweeted 4 times or less.\n",
    "We see that 23% of have 100 or less followers but 81% have less than 1000 tweets."
   ]
  },
  {
   "cell_type": "code",
   "execution_count": 150,
   "id": "7ffb97c4",
   "metadata": {},
   "outputs": [
    {
     "data": {
      "text/plain": [
       "user_name\n",
       "THHamburger        11\n",
       "GManicurist         4\n",
       "cjdelarosajw        4\n",
       "mynameisibarra      4\n",
       "marcf510            3\n",
       "judleth_ramos       3\n",
       "carman_steeven      3\n",
       "user01230219        3\n",
       "akosinicamatias     3\n",
       "Philheadlines       3\n",
       "Name: tweet_id, dtype: int64"
      ]
     },
     "execution_count": 150,
     "metadata": {},
     "output_type": "execute_result"
    }
   ],
   "source": [
    "new_users = users[users['user_created'] >= '2022-01-01'].sort_values('user_tweets_count', ascending=False)\n",
    "\n",
    "new_users_df = df_clean[df_clean.user_name.isin(new_users.user_name.to_list())]\n",
    "new_users_df.groupby('user_name')['tweet_id'].count().sort_values(ascending=False).head(10)"
   ]
  },
  {
   "cell_type": "code",
   "execution_count": 146,
   "id": "e136a935",
   "metadata": {},
   "outputs": [
    {
     "name": "stdout",
     "output_type": "stream",
     "text": [
      "Percent of users with 100 or less followers: 0.23529411764705882\n",
      "Percent of users with 500 or less followers: 0.660377358490566\n"
     ]
    },
    {
     "data": {
      "image/png": "[encoded data removed]",
      "text/plain": [
       "<Figure size 360x360 with 1 Axes>"
      ]
     },
     "metadata": {},
     "output_type": "display_data"
    }
   ],
   "source": [
    "sns.displot(new_users, x='user_followers', kind=\"ecdf\")\n",
    "print(f'Percent of users with 100 or less followers: {users[users.user_followers <= 100].shape[0]/users.shape[0]}')\n",
    "print(f'Percent of users with 500 or less followers: {users[users.user_followers <= 500].shape[0]/users.shape[0]}')"
   ]
  },
  {
   "cell_type": "code",
   "execution_count": 125,
   "id": "28a62bcc",
   "metadata": {},
   "outputs": [
    {
     "name": "stdout",
     "output_type": "stream",
     "text": [
      "Percent of users with 1000 or less tweets: 0.8165530363088632\n",
      "Percent of users with 5000 or less tweets: 0.9646424607578881\n"
     ]
    },
    {
     "data": {
      "image/png": "[encoded data removed]",
      "text/plain": [
       "<Figure size 360x360 with 1 Axes>"
      ]
     },
     "metadata": {},
     "output_type": "display_data"
    }
   ],
   "source": [
    "sns.displot(new_users, x='user_tweets_count', kind=\"ecdf\")\n",
    "print(f'Percent of users with 1000 or less tweets: {users[users.user_followers <= 1000].shape[0]/users.shape[0]}')\n",
    "print(f'Percent of users with 5000 or less tweets: {users[users.user_followers <= 5000].shape[0]/users.shape[0]}')"
   ]
  },
  {
   "cell_type": "markdown",
   "id": "3245d49e",
   "metadata": {},
   "source": [
    "The most prolific new account is @HoranyTaban which seem to be a \"news\" account about technology. The others seem to be ordinary accounts of people or \"stan accounts\" for various groups."
   ]
  },
  {
   "cell_type": "code",
   "execution_count": 129,
   "id": "0966e464",
   "metadata": {},
   "outputs": [
    {
     "data": {
      "text/html": [
       "<div>\n",
       "<style scoped>\n",
       "    .dataframe tbody tr th:only-of-type {\n",
       "        vertical-align: middle;\n",
       "    }\n",
       "\n",
       "    .dataframe tbody tr th {\n",
       "        vertical-align: top;\n",
       "    }\n",
       "\n",
       "    .dataframe thead th {\n",
       "        text-align: right;\n",
       "    }\n",
       "</style>\n",
       "<table border=\"1\" class=\"dataframe\">\n",
       "  <thead>\n",
       "    <tr style=\"text-align: right;\">\n",
       "      <th></th>\n",
       "      <th>tweet</th>\n",
       "      <th>user_name</th>\n",
       "      <th>likes</th>\n",
       "      <th>retweets</th>\n",
       "    </tr>\n",
       "  </thead>\n",
       "  <tbody>\n",
       "    <tr>\n",
       "      <th>5707</th>\n",
       "      <td>Why Tropical Hut is being talked about on loca...</td>\n",
       "      <td>HoranyTaban</td>\n",
       "      <td>0</td>\n",
       "      <td>0</td>\n",
       "    </tr>\n",
       "    <tr>\n",
       "      <th>7784</th>\n",
       "      <td>tropical hut cheese burger &amp;gt;&amp;gt;&amp;gt;&amp;gt;</td>\n",
       "      <td>gojologyy</td>\n",
       "      <td>0</td>\n",
       "      <td>0</td>\n",
       "    </tr>\n",
       "    <tr>\n",
       "      <th>2549</th>\n",
       "      <td>gusto ko rin try tropical hut it’s so nice na ...</td>\n",
       "      <td>pickhye</td>\n",
       "      <td>0</td>\n",
       "      <td>0</td>\n",
       "    </tr>\n",
       "    <tr>\n",
       "      <th>3604</th>\n",
       "      <td>@acenyxyoboi @bgyo_ph As far as i know, may hi...</td>\n",
       "      <td>Hi_BGYO</td>\n",
       "      <td>1</td>\n",
       "      <td>2</td>\n",
       "    </tr>\n",
       "    <tr>\n",
       "      <th>6715</th>\n",
       "      <td>@dettesteffens22 @supernegatrona Support tropi...</td>\n",
       "      <td>ParadisePalawan</td>\n",
       "      <td>0</td>\n",
       "      <td>0</td>\n",
       "    </tr>\n",
       "    <tr>\n",
       "      <th>1055</th>\n",
       "      <td>what's with tropical hut? anong meron? hahah</td>\n",
       "      <td>purplejaechan</td>\n",
       "      <td>0</td>\n",
       "      <td>0</td>\n",
       "    </tr>\n",
       "    <tr>\n",
       "      <th>6318</th>\n",
       "      <td>dahil s twitter, mapuntahan nga rin ang tropic...</td>\n",
       "      <td>PaoPaoPawikan</td>\n",
       "      <td>1</td>\n",
       "      <td>0</td>\n",
       "    </tr>\n",
       "    <tr>\n",
       "      <th>4207</th>\n",
       "      <td>yes omg tropical hut burgers are the best http...</td>\n",
       "      <td>choihaulz</td>\n",
       "      <td>2</td>\n",
       "      <td>0</td>\n",
       "    </tr>\n",
       "    <tr>\n",
       "      <th>2609</th>\n",
       "      <td>tropical hut in vito cruz, you are missed http...</td>\n",
       "      <td>yoonkimingenius</td>\n",
       "      <td>0</td>\n",
       "      <td>0</td>\n",
       "    </tr>\n",
       "    <tr>\n",
       "      <th>32</th>\n",
       "      <td>@japtobias Bukod sa tropical hut pede idagdag ...</td>\n",
       "      <td>StarrAsuncion06</td>\n",
       "      <td>0</td>\n",
       "      <td>0</td>\n",
       "    </tr>\n",
       "  </tbody>\n",
       "</table>\n",
       "</div>"
      ],
      "text/plain": [
       "                                                  tweet        user_name  \\\n",
       "5707  Why Tropical Hut is being talked about on loca...      HoranyTaban   \n",
       "7784        tropical hut cheese burger &gt;&gt;&gt;&gt;        gojologyy   \n",
       "2549  gusto ko rin try tropical hut it’s so nice na ...          pickhye   \n",
       "3604  @acenyxyoboi @bgyo_ph As far as i know, may hi...          Hi_BGYO   \n",
       "6715  @dettesteffens22 @supernegatrona Support tropi...  ParadisePalawan   \n",
       "1055       what's with tropical hut? anong meron? hahah    purplejaechan   \n",
       "6318  dahil s twitter, mapuntahan nga rin ang tropic...    PaoPaoPawikan   \n",
       "4207  yes omg tropical hut burgers are the best http...        choihaulz   \n",
       "2609  tropical hut in vito cruz, you are missed http...  yoonkimingenius   \n",
       "32    @japtobias Bukod sa tropical hut pede idagdag ...  StarrAsuncion06   \n",
       "\n",
       "      likes  retweets  \n",
       "5707      0         0  \n",
       "7784      0         0  \n",
       "2549      0         0  \n",
       "3604      1         2  \n",
       "6715      0         0  \n",
       "1055      0         0  \n",
       "6318      1         0  \n",
       "4207      2         0  \n",
       "2609      0         0  \n",
       "32        0         0  "
      ]
     },
     "execution_count": 129,
     "metadata": {},
     "output_type": "execute_result"
    }
   ],
   "source": [
    "top_new_users = new_users['user_name'].head(10).to_list()\n",
    "df_clean[df_clean['user_name'].isin(top_new_users)].sort_values('user_tweets_count', ascending=False)[['tweet', 'user_name', 'likes', 'retweets']].head(10)"
   ]
  },
  {
   "cell_type": "markdown",
   "id": "3e69c506",
   "metadata": {},
   "source": [
    "From the above analysis, it seems like the trend is pretty organic. If it trends again in the future, I might scrape more data and look at it again."
   ]
  }
 ],
 "metadata": {
  "kernelspec": {
   "display_name": "Python 3.9.6 ('.env': venv)",
   "language": "python",
   "name": "python3"
  },
  "language_info": {
   "codemirror_mode": {
    "name": "ipython",
    "version": 3
   },
   "file_extension": ".py",
   "mimetype": "text/x-python",
   "name": "python",
   "nbconvert_exporter": "python",
   "pygments_lexer": "ipython3",
   "version": "3.9.6"
  },
  "vscode": {
   "interpreter": {
    "hash": "045c1a0c3f9cbecba98a9ebaa9c7ed038fc78d57667e07f1dbcec8be16c1ca12"
   }
  }
 },
 "nbformat": 4,
 "nbformat_minor": 5
}
