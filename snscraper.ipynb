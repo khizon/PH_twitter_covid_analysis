{
 "cells": [
  {
   "cell_type": "markdown",
   "id": "b84f21cb",
   "metadata": {},
   "source": [
    "# Scraping Tweets from a public Twitter account between two dates\n",
    "\n",
    "snscraper has a very easy to use python wrapper than can be used to scrape tweets from a public Twitter account."
   ]
  },
  {
   "cell_type": "code",
   "execution_count": 44,
   "id": "76f1e456",
   "metadata": {},
   "outputs": [],
   "source": [
    "from tqdm import tqdm\n",
    "import snscrape.modules.twitter as sntwitter\n",
    "import pandas as pd\n",
    "from datetime import date, timedelta"
   ]
  },
  {
   "cell_type": "code",
   "execution_count": 62,
   "id": "5e15cc36",
   "metadata": {},
   "outputs": [],
   "source": [
    "def scrape_twitter(query=None, user=None, since=str(date.today()-timedelta(days=1)), until=str(date.today()+timedelta(days=1))):\n",
    "    \"\"\"\n",
    "    Scrape tweets from Twitter.\n",
    "    query - search for tweets containing this string\n",
    "    user - search for tweets by this user\n",
    "    since - search for tweets since this date\n",
    "    until - search for tweets until this date (non-inclusive)\n",
    "\n",
    "    data saved in csv file\n",
    "    \"\"\"\n",
    "\n",
    "    if all(v is None for v in {query, user}):\n",
    "        raise ValueError(\"Must specify either query or user\")\n",
    "\n",
    "    search_str = f\"{query} \" if query else \"\"\n",
    "    search_str += f\"from:{user} \" if user else \"\"\n",
    "    search_str += f\"since:{since} \" if since else \"\"\n",
    "    search_str += f\"until:{until} \" if until else \"\"\n",
    "    print(search_str)\n",
    "    \n",
    "    tweets_df = pd.DataFrame(columns=[\"tweet_id\", \"date\", \"user_name\", \"tweet\", \"retweets\", \"likes\", \"quote_tweets\", \"replies\", \"retweeted_tweet\", \"quoted_tweet\"])\n",
    "    tweets_df.to_csv(f\"tweets_{query if query else user}.csv\", index=False)\n",
    "\n",
    "    for tweet in tqdm(sntwitter.TwitterSearchScraper(search_str).get_items()):\n",
    "        tweet_elem = {\"tweet_id\": tweet.id,\n",
    "                      \"date\":tweet.date,\n",
    "                      \"user_name\": tweet.user.username,\n",
    "                      \"tweet\":tweet.content,\n",
    "                      \"retweets\": tweet.retweetCount,\n",
    "                      \"likes\": tweet.likeCount,\n",
    "                      \"quote_tweets\":tweet.quoteCount,\n",
    "                      \"replies\":tweet.replyCount,\n",
    "                      \"retweeted_tweet\":tweet.retweetedTweet,\n",
    "                      \"quoted_tweet\":tweet.quotedTweet,\n",
    "                      }\n",
    "        # append tweet to dataframe of tweets\n",
    "        tweet_df = tweets_df.append(tweet_elem, ignore_index = True)\n",
    "        # continously append new data to the csv\n",
    "        tweet_df.to_csv(f\"tweets_{query if query else user}.csv\", mode=\"a\", index=False, header=False)\n",
    "    \n",
    "    return"
   ]
  },
  {
   "cell_type": "code",
   "execution_count": 78,
   "id": "60fb18c1",
   "metadata": {},
   "outputs": [],
   "source": [
    "def scrape_twitter_users(users, filename=\"\"):\n",
    "    \"\"\"\n",
    "    Scrape tweets from Twitter.\n",
    "    users - list of users to scrape\n",
    "    \"\"\"\n",
    "\n",
    "    tweets_user_df = pd.DataFrame(columns=[\"user_id\", \"user_name\", \"display_name\", \"description\", \"verified\", \"created\", \"followers\", \"following\", \"tweets\", \"location\"])\n",
    "    tweets_user_df.to_csv(f\"tweets_{filename}_users.csv\", index=False)\n",
    "\n",
    "    for user in tqdm(users):\n",
    "        for tweet in sntwitter.TwitterSearchScraper(f\"from:{user}\").get_items():\n",
    "            user_elem = {\n",
    "                \"user_id\": tweet.user.id,\n",
    "                \"user_name\": tweet.user.username,\n",
    "                \"display_name\": tweet.user.displayname,\n",
    "                \"description\": tweet.user.description,\n",
    "                \"verified\": tweet.user.verified,\n",
    "                \"created\": tweet.user.created,\n",
    "                \"followers\": tweet.user.followersCount,\n",
    "                \"following\": tweet.user.friendsCount,\n",
    "                \"tweets\": tweet.user.statusesCount,\n",
    "                \"location\": tweet.user.location,\n",
    "            }\n",
    "            break\n",
    "        user_df = tweets_user_df.append(user_elem, ignore_index = True)\n",
    "        # write to csv\n",
    "        user_df.to_csv(f\"tweets_{filename}_users.csv\", mode=\"a\", index=False, header=False)"
   ]
  }
 ],
 "metadata": {
  "kernelspec": {
   "display_name": "Python 3 (ipykernel)",
   "language": "python",
   "name": "python3"
  },
  "language_info": {
   "codemirror_mode": {
    "name": "ipython",
    "version": 3
   },
   "file_extension": ".py",
   "mimetype": "text/x-python",
   "name": "python",
   "nbconvert_exporter": "python",
   "pygments_lexer": "ipython3",
   "version": "3.9.6"
  },
  "vscode": {
   "interpreter": {
    "hash": "d531e0fa8e0794bb7f384be6310a043246fe1c78165b5e565fbe0e56857c19ec"
   }
  }
 },
 "nbformat": 4,
 "nbformat_minor": 5
}
